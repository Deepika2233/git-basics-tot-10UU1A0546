{
 "cells": [
  {
   "cell_type": "markdown",
   "metadata": {},
   "source": [
    "# special number"
   ]
  },
  {
   "cell_type": "code",
   "execution_count": null,
   "metadata": {},
   "outputs": [],
   "source": [
    "\n",
    "p=int(input(\"enter a number\"))\n",
    "t=int(input(\"enter a number\"))\n",
    "for i in range(t):\n",
    "    n=int(input(\"enter a number\"))\n",
    "    c=0\n",
    "    special_flag=0\n",
    "    for j in range(2,(n//2)+1):\n",
    "        if n%j==0:\n",
    "            prime_flag=1\n",
    "            for k in range(2,(j//2)+1):\n",
    "                if j%k==0:\n",
    "                    prime_flag=0\n",
    "                    break\n",
    "            if prime_flag==1:\n",
    "                c=c+1\n",
    "                if c>=p:\n",
    "                    special_flag=1\n",
    "                    break\n",
    "    if special_flag==1:\n",
    "        print('YES')\n",
    "    else:\n",
    "        print('NO')\n",
    "                "
   ]
  },
  {
   "cell_type": "markdown",
   "metadata": {},
   "source": [
    "# odd exit"
   ]
  },
  {
   "cell_type": "code",
   "execution_count": 1,
   "metadata": {},
   "outputs": [
    {
     "name": "stdout",
     "output_type": "stream",
     "text": [
      "32\n",
      "32 76\n",
      "76 5\n",
      "98\n",
      "98 77\n",
      "66\n",
      "66 EXIT\n",
      "\n",
      " 98\n"
     ]
    }
   ],
   "source": [
    "n=input()\n",
    "even=list()\n",
    "while n!='EXIT':\n",
    "    n=int(n)\n",
    "    if n%2==0:\n",
    "        even.append(n)\n",
    "        print(n,end=' ')\n",
    "    n=input()\n",
    "print('\\n',max(even),sep=' ')"
   ]
  },
  {
   "cell_type": "markdown",
   "metadata": {},
   "source": [
    "# Functions"
   ]
  },
  {
   "cell_type": "code",
   "execution_count": 7,
   "metadata": {},
   "outputs": [
    {
     "name": "stdout",
     "output_type": "stream",
     "text": [
      "enter a4\n",
      "enter b5\n"
     ]
    },
    {
     "data": {
      "text/plain": [
       "9"
      ]
     },
     "execution_count": 7,
     "metadata": {},
     "output_type": "execute_result"
    }
   ],
   "source": [
    "def add():\n",
    "        c=a+b\n",
    "        return c\n",
    "a=int(input(\"enter a\"))\n",
    "b=int(input(\"enter b\"))\n",
    "add()\n"
   ]
  },
  {
   "cell_type": "code",
   "execution_count": 10,
   "metadata": {},
   "outputs": [
    {
     "name": "stdout",
     "output_type": "stream",
     "text": [
      "20\n",
      "30\n"
     ]
    }
   ],
   "source": [
    "a=10\n",
    "def display():\n",
    "    b=20\n",
    "    a=30\n",
    "    print(b)\n",
    "    print(a)\n",
    "display()"
   ]
  },
  {
   "cell_type": "markdown",
   "metadata": {},
   "source": [
    "# Types of arguments in python\n",
    "1. Required arguments:\n",
    "2. Keyword arguments:\n",
    "3. Default arguments:\n",
    "4. Variable length arguments:"
   ]
  },
  {
   "cell_type": "markdown",
   "metadata": {},
   "source": [
    "## required arguments"
   ]
  },
  {
   "cell_type": "code",
   "execution_count": 11,
   "metadata": {},
   "outputs": [
    {
     "name": "stdout",
     "output_type": "stream",
     "text": [
      "10 20\n"
     ]
    }
   ],
   "source": [
    "def display(a,b):\n",
    "    print(a,b)\n",
    "display(10,20)"
   ]
  },
  {
   "cell_type": "markdown",
   "metadata": {},
   "source": [
    "## keyword arguments"
   ]
  },
  {
   "cell_type": "code",
   "execution_count": 12,
   "metadata": {},
   "outputs": [
    {
     "name": "stdout",
     "output_type": "stream",
     "text": [
      "20 10\n"
     ]
    }
   ],
   "source": [
    "def display(a,b):\n",
    "    print(a,b)\n",
    "display(b=10,a=20)"
   ]
  },
  {
   "cell_type": "markdown",
   "metadata": {},
   "source": [
    "## default arguments"
   ]
  },
  {
   "cell_type": "code",
   "execution_count": 15,
   "metadata": {},
   "outputs": [
    {
     "name": "stdout",
     "output_type": "stream",
     "text": [
      "deepu\n"
     ]
    }
   ],
   "source": [
    "# no.of arguments in func def and func call need not to be\n",
    "# some default arguments will be present\n",
    "def display(name,course=\"btech\"):\n",
    "    print(name)\n",
    "display(name=\"deepu\")"
   ]
  },
  {
   "cell_type": "code",
   "execution_count": 17,
   "metadata": {},
   "outputs": [
    {
     "name": "stdout",
     "output_type": "stream",
     "text": [
      "deepu mtech\n"
     ]
    }
   ],
   "source": [
    "def display(name,course=\"btech\"):\n",
    "    print(name,course)\n",
    "display(name=\"deepu\",course=\"mtech\")"
   ]
  },
  {
   "cell_type": "code",
   "execution_count": 20,
   "metadata": {},
   "outputs": [
    {
     "name": "stdout",
     "output_type": "stream",
     "text": [
      "deepu btech\n"
     ]
    }
   ],
   "source": [
    "def display(name,course=\"btech\"):\n",
    "    print(name,course)\n",
    "display(name=\"deepu\")"
   ]
  },
  {
   "cell_type": "code",
   "execution_count": 25,
   "metadata": {},
   "outputs": [
    {
     "name": "stdout",
     "output_type": "stream",
     "text": [
      "enter a10\n",
      "enter b20\n",
      "10 20 30\n"
     ]
    },
    {
     "data": {
      "text/plain": [
       "(10, 20, 30)"
      ]
     },
     "execution_count": 25,
     "metadata": {},
     "output_type": "execute_result"
    }
   ],
   "source": [
    "def display():\n",
    "    a=10\n",
    "    b=20\n",
    "    c=a+b\n",
    "    print(a,b,c)\n",
    "    return a,b,c\n",
    "a=int(input(\"enter a\"))\n",
    "b=int(input(\"enter b\"))\n",
    "display()"
   ]
  },
  {
   "cell_type": "code",
   "execution_count": 39,
   "metadata": {},
   "outputs": [
    {
     "data": {
      "text/plain": [
       "4"
      ]
     },
     "execution_count": 39,
     "metadata": {},
     "output_type": "execute_result"
    }
   ],
   "source": [
    "def sum():\n",
    "    for a in range(1,11):\n",
    "        if a%2==0:\n",
    "            a=a+2\n",
    "            return a\n",
    "sum()\n",
    "\n",
    "    "
   ]
  },
  {
   "cell_type": "code",
   "execution_count": 45,
   "metadata": {},
   "outputs": [
    {
     "name": "stdout",
     "output_type": "stream",
     "text": [
      "2\n",
      "4\n",
      "6\n",
      "8\n",
      "10\n",
      "30\n"
     ]
    }
   ],
   "source": [
    "sum=0\n",
    "for a in range(1,11):\n",
    "    if a%2==0:\n",
    "        print(a) \n",
    "        sum=a+sum\n",
    "print(sum)\n",
    "\n",
    "    "
   ]
  },
  {
   "cell_type": "code",
   "execution_count": 47,
   "metadata": {},
   "outputs": [
    {
     "name": "stdout",
     "output_type": "stream",
     "text": [
      "enter value1\n",
      "enter value9\n",
      "2\n",
      "4\n",
      "6\n",
      "8\n",
      "20\n"
     ]
    }
   ],
   "source": [
    "i=int(input(\"enter value\"))\n",
    "n=int(input(\"enter value\"))\n",
    "sum=0\n",
    "for a in range(i,n+1):\n",
    "    if a%2==0:\n",
    "        print(a) \n",
    "        sum=a+sum\n",
    "print(sum)"
   ]
  },
  {
   "cell_type": "code",
   "execution_count": null,
   "metadata": {},
   "outputs": [],
   "source": []
  }
 ],
 "metadata": {
  "kernelspec": {
   "display_name": "Python 3",
   "language": "python",
   "name": "python3"
  },
  "language_info": {
   "codemirror_mode": {
    "name": "ipython",
    "version": 3
   },
   "file_extension": ".py",
   "mimetype": "text/x-python",
   "name": "python",
   "nbconvert_exporter": "python",
   "pygments_lexer": "ipython3",
   "version": "3.7.3"
  }
 },
 "nbformat": 4,
 "nbformat_minor": 2
}
