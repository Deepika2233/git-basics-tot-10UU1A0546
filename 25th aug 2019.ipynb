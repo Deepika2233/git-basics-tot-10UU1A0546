{
 "cells": [
  {
   "cell_type": "code",
   "execution_count": null,
   "metadata": {},
   "outputs": [],
   "source": [
    "# leap year\n",
    "a=int(input())\n",
    "def leap():\n",
    "\n",
    "    while a%4==0 and a%100!=0 or a%400==0:\n",
    "        print(\"leap year\")\n",
    "    else:\n",
    "        print(\"not a leap year\")\n",
    "        return a\n",
    "leap()"
   ]
  },
  {
   "cell_type": "code",
   "execution_count": null,
   "metadata": {},
   "outputs": [],
   "source": [
    "# sum of all numbers in the list\n",
    "def add(n):\n",
    "    s=0\n",
    "    for i in range(0,len(n)):\n",
    "        s=s+l[i]\n",
    "    return s\n",
    "l=[]        \n",
    "for a in range(0,5): \n",
    "    n=int(input())\n",
    "    l.append(n)\n",
    "add(l)"
   ]
  },
  {
   "cell_type": "code",
   "execution_count": null,
   "metadata": {},
   "outputs": [],
   "source": [
    "#factorial\n",
    "a=int(input('enter a number'))\n",
    "def fact():\n",
    "    fact=1 \n",
    "    i=1\n",
    "    while i<=a:\n",
    "       \n",
    "        \n",
    "        fact=fact*i\n",
    "        i=i+1\n",
    "    return fact\n",
    "fact()"
   ]
  },
  {
   "cell_type": "code",
   "execution_count": 11,
   "metadata": {},
   "outputs": [
    {
     "name": "stdout",
     "output_type": "stream",
     "text": [
      "enter a number4\n",
      "enter a number5\n",
      "enter a number6\n"
     ]
    },
    {
     "data": {
      "text/plain": [
       "6"
      ]
     },
     "execution_count": 11,
     "metadata": {},
     "output_type": "execute_result"
    }
   ],
   "source": [
    "#greatest of the three\n",
    "a=int(input(\"enter a number\"))\n",
    "b=int(input(\"enter a number\"))\n",
    "c=int(input(\"enter a number\"))\n",
    "def greatest():\n",
    "    if(a>=b)and(a>=c):\n",
    "        greatest=a\n",
    "    elif(b>=c)and(b>=c):\n",
    "        greatest=b\n",
    "    else:\n",
    "        greatest=c\n",
    "        return greatest\n",
    "greatest()"
   ]
  },
  {
   "cell_type": "code",
   "execution_count": null,
   "metadata": {},
   "outputs": [],
   "source": [
    "# product of all numbers in the list\n",
    "def prod(n):\n",
    "    p=1\n",
    "    for i in range(0,len(n)):\n",
    "        p=p*l[i]\n",
    "    return p\n",
    "l=[]        \n",
    "for a in range(0,5): \n",
    "    n=int(input())\n",
    "    l.append(n)\n",
    "prod(l)"
   ]
  },
  {
   "cell_type": "code",
   "execution_count": null,
   "metadata": {},
   "outputs": [],
   "source": [
    "# string reverse\n",
    "a=input(\"enter a string\")\n",
    "def rev(a):\n",
    "    \n",
    "    return a[::-1]\n",
    "  \n",
    "\n",
    "    rev(a)"
   ]
  },
  {
   "cell_type": "code",
   "execution_count": null,
   "metadata": {},
   "outputs": [],
   "source": [
    "\n"
   ]
  },
  {
   "cell_type": "code",
   "execution_count": null,
   "metadata": {},
   "outputs": [],
   "source": [
    "def even(n):\n",
    "    a=0\n",
    "    for i in range(0,len(n)):\n",
    "        a=a+l[i]\n",
    "        i%2==0\n",
    "    return i\n",
    "l=[]        \n",
    "for b in range(0,5): \n",
    "    n=int(input())\n",
    "    l.append(n)\n",
    "even(l)"
   ]
  },
  {
   "cell_type": "code",
   "execution_count": 10,
   "metadata": {},
   "outputs": [
    {
     "name": "stdout",
     "output_type": "stream",
     "text": [
      "6\n"
     ]
    },
    {
     "data": {
      "text/plain": [
       "[1, 2, 3, 6]"
      ]
     },
     "execution_count": 10,
     "metadata": {},
     "output_type": "execute_result"
    }
   ],
   "source": [
    "def factors(n):\n",
    "    list=[]\n",
    "    for i in range(1,n+1):\n",
    "        if n%i==0:\n",
    "                list.append(i)\n",
    "    return list\n",
    "n=int(input())\n",
    "factors(n)\n",
    "    \n",
    "            \n",
    "    \n",
    "        \n"
   ]
  },
  {
   "cell_type": "code",
   "execution_count": 2,
   "metadata": {},
   "outputs": [
    {
     "name": "stdout",
     "output_type": "stream",
     "text": [
      "7\n"
     ]
    },
    {
     "data": {
      "text/plain": [
       "'prime'"
      ]
     },
     "execution_count": 2,
     "metadata": {},
     "output_type": "execute_result"
    }
   ],
   "source": [
    "# prime\n",
    "def prime(n):\n",
    "    c=0\n",
    "    for i in range(1,n+1):\n",
    "        if(n%i==0):\n",
    "            c+=1\n",
    "    if(c==2):\n",
    "        return \"prime\"\n",
    "    else:\n",
    "        return \"not prime\"\n",
    "n=int(input())\n",
    "prime(n)"
   ]
  },
  {
   "cell_type": "code",
   "execution_count": null,
   "metadata": {},
   "outputs": [],
   "source": []
  },
  {
   "cell_type": "code",
   "execution_count": null,
   "metadata": {},
   "outputs": [],
   "source": []
  }
 ],
 "metadata": {
  "kernelspec": {
   "display_name": "Python 3",
   "language": "python",
   "name": "python3"
  },
  "language_info": {
   "codemirror_mode": {
    "name": "ipython",
    "version": 3
   },
   "file_extension": ".py",
   "mimetype": "text/x-python",
   "name": "python",
   "nbconvert_exporter": "python",
   "pygments_lexer": "ipython3",
   "version": "3.7.3"
  }
 },
 "nbformat": 4,
 "nbformat_minor": 2
}
