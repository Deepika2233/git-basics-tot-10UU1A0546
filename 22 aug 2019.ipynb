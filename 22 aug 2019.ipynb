{
 "cells": [
  {
   "cell_type": "markdown",
   "metadata": {},
   "source": [
    "## Files in python"
   ]
  },
  {
   "cell_type": "markdown",
   "metadata": {},
   "source": [
    "### 3 steps to work with files in python\n",
    "- 1) open file by specifying operation\n",
    "- 2) do your requires operation\n",
    "- 3) close the file which is opened"
   ]
  },
  {
   "cell_type": "code",
   "execution_count": 2,
   "metadata": {},
   "outputs": [
    {
     "name": "stdout",
     "output_type": "stream",
     "text": [
      "deepu\n",
      "prasu\n",
      "lakshmi\n",
      "chandrika\n"
     ]
    }
   ],
   "source": [
    "fh=open('book.txt','r')\n",
    "\n",
    "data=fh.read()\n",
    "print(data)\n",
    "fh.close()"
   ]
  },
  {
   "cell_type": "code",
   "execution_count": 3,
   "metadata": {},
   "outputs": [],
   "source": [
    "fh=open('mystory.txt','w')\n",
    "\n",
    "content='This is my story'\n",
    "fh.write(content)\n",
    "\n",
    "fh.close()"
   ]
  },
  {
   "cell_type": "code",
   "execution_count": 4,
   "metadata": {},
   "outputs": [
    {
     "ename": "UnsupportedOperation",
     "evalue": "not writable",
     "output_type": "error",
     "traceback": [
      "\u001b[1;31m---------------------------------------------------------------------------\u001b[0m",
      "\u001b[1;31mUnsupportedOperation\u001b[0m                      Traceback (most recent call last)",
      "\u001b[1;32m<ipython-input-4-3cdf3f98f42a>\u001b[0m in \u001b[0;36m<module>\u001b[1;34m\u001b[0m\n\u001b[0;32m      2\u001b[0m \u001b[0mdata\u001b[0m\u001b[1;33m=\u001b[0m\u001b[0mfh\u001b[0m\u001b[1;33m.\u001b[0m\u001b[0mread\u001b[0m\u001b[1;33m(\u001b[0m\u001b[1;33m)\u001b[0m\u001b[1;33m\u001b[0m\u001b[1;33m\u001b[0m\u001b[0m\n\u001b[0;32m      3\u001b[0m \u001b[0mcontent\u001b[0m\u001b[1;33m=\u001b[0m\u001b[1;34m'deepu'\u001b[0m\u001b[1;33m\u001b[0m\u001b[1;33m\u001b[0m\u001b[0m\n\u001b[1;32m----> 4\u001b[1;33m \u001b[0mfh\u001b[0m\u001b[1;33m.\u001b[0m\u001b[0mwrite\u001b[0m\u001b[1;33m(\u001b[0m\u001b[0mcontent\u001b[0m\u001b[1;33m)\u001b[0m\u001b[1;33m\u001b[0m\u001b[1;33m\u001b[0m\u001b[0m\n\u001b[0m\u001b[0;32m      5\u001b[0m \u001b[0mfh\u001b[0m\u001b[1;33m.\u001b[0m\u001b[0mclose\u001b[0m\u001b[1;33m(\u001b[0m\u001b[1;33m)\u001b[0m\u001b[1;33m\u001b[0m\u001b[1;33m\u001b[0m\u001b[0m\n",
      "\u001b[1;31mUnsupportedOperation\u001b[0m: not writable"
     ]
    }
   ],
   "source": [
    "fh=open('mystory.txt','r')\n",
    "data=fh.read()\n",
    "content='deepu'\n",
    "fh.write(content)\n",
    "fh.close()"
   ]
  },
  {
   "cell_type": "code",
   "execution_count": 7,
   "metadata": {},
   "outputs": [],
   "source": [
    "fh1=open('book.txt','r')\n",
    "fh2=open('mystory.txt','w')\n",
    "data=fh1.read()\n",
    "fh2.write(data)\n",
    "fh1.close()\n",
    "fh2.close()"
   ]
  },
  {
   "cell_type": "code",
   "execution_count": 6,
   "metadata": {},
   "outputs": [],
   "source": [
    "fh=open('mystory.txt','w')\n",
    "content='this is my story'\n",
    "fh.write(content)\n",
    "fh.write('this is my second story')\n",
    "fh.close()"
   ]
  },
  {
   "cell_type": "code",
   "execution_count": 9,
   "metadata": {},
   "outputs": [
    {
     "name": "stdout",
     "output_type": "stream",
     "text": [
      "cursor 0\n",
      "cursor 32\n",
      "\n"
     ]
    }
   ],
   "source": [
    "fh=open('mystory.txt','r')\n",
    "print('cursor',fh.tell())\n",
    "data1=fh.read()\n",
    "print('cursor',fh.tell())\n",
    "print(data2)\n",
    "fh.close()"
   ]
  },
  {
   "cell_type": "code",
   "execution_count": 10,
   "metadata": {},
   "outputs": [
    {
     "name": "stdout",
     "output_type": "stream",
     "text": [
      "cursor 32\n",
      "cursor 0\n"
     ]
    }
   ],
   "source": [
    "fh=open('mystory.txt','r')\n",
    "fh.read()\n",
    "print('cursor',fh.tell())\n",
    "fh.seek(0)\n",
    "print('cursor',fh.tell())\n",
    "fh.close()"
   ]
  },
  {
   "cell_type": "code",
   "execution_count": 11,
   "metadata": {},
   "outputs": [
    {
     "name": "stdout",
     "output_type": "stream",
     "text": [
      "cursor 32\n",
      "cursor 15\n"
     ]
    }
   ],
   "source": [
    "fh=open('mystory.txt','r')\n",
    "fh.read()\n",
    "print('cursor',fh.tell())\n",
    "fh.seek(15)\n",
    "print('cursor',fh.tell())\n",
    "fh.close()"
   ]
  },
  {
   "cell_type": "code",
   "execution_count": 12,
   "metadata": {},
   "outputs": [],
   "source": [
    "fh=open('mystory.txt','a')\n",
    "fh.write('story 3')\n",
    "fh.close()"
   ]
  },
  {
   "cell_type": "code",
   "execution_count": 14,
   "metadata": {},
   "outputs": [],
   "source": [
    "import re\n",
    "fh1=open('book.txt','r')\n",
    "fh2=open('mystory.txt','w')\n",
    "data=fh1.read().strip()\n",
    "numbers=re.findall('\\d+',data)\n",
    "for each in numbers:\n",
    "    fh2.write(each+'\\n')\n",
    "fh1.close()\n",
    "fh2.close()\n",
    "\n",
    "\n",
    "\n"
   ]
  },
  {
   "cell_type": "code",
   "execution_count": 15,
   "metadata": {},
   "outputs": [
    {
     "name": "stdout",
     "output_type": "stream",
     "text": [
      "deepu 100\n",
      "\n",
      "prasu 2\n",
      "\n",
      "lakshmi 3\n",
      "\n",
      "chandrika 4\n"
     ]
    }
   ],
   "source": [
    "fh=open('book.txt')\n",
    "for deepu in fh:\n",
    "    print(deepu)\n",
    "fh.close()"
   ]
  },
  {
   "cell_type": "code",
   "execution_count": 17,
   "metadata": {},
   "outputs": [
    {
     "name": "stdout",
     "output_type": "stream",
     "text": [
      "no.of lines in file 4\n"
     ]
    }
   ],
   "source": [
    "fh=open('book.txt')\n",
    "count=0\n",
    "for deepu in fh:\n",
    "  count += 1\n",
    "print('no.of lines in file',count)\n",
    "fh.close()"
   ]
  },
  {
   "cell_type": "code",
   "execution_count": 7,
   "metadata": {},
   "outputs": [
    {
     "name": "stdout",
     "output_type": "stream",
     "text": [
      "\n"
     ]
    }
   ],
   "source": [
    "fh=open('book.txt','r')\n",
    "deepu=fh.readline()\n",
    "prasu=fh.readline()\n",
    "print(prasu)\n",
    "fh.close()"
   ]
  },
  {
   "cell_type": "code",
   "execution_count": 11,
   "metadata": {},
   "outputs": [
    {
     "name": "stdout",
     "output_type": "stream",
     "text": [
      "[]\n"
     ]
    }
   ],
   "source": [
    "fh=open('book.txt','r')\n",
    "deepu=fh.readline()\n",
    "prasu=fh.readlines()\n",
    "print(prasu)\n",
    "fh.close()"
   ]
  },
  {
   "cell_type": "code",
   "execution_count": 4,
   "metadata": {},
   "outputs": [
    {
     "name": "stdout",
     "output_type": "stream",
     "text": [
      "5\n",
      "42\n",
      " 100\n",
      "prasu 2\n",
      "lakshmi 3\n",
      "chandrika 4\n"
     ]
    }
   ],
   "source": [
    "fh=open('book.txt','r+')\n",
    "fh.write('hello')\n",
    "print(fh.tell())\n",
    "\n",
    "\n",
    "data=fh.read()\n",
    "print(fh.tell())\n",
    "\n",
    "print(data)\n",
    "\n",
    "fh.close()"
   ]
  },
  {
   "cell_type": "code",
   "execution_count": 5,
   "metadata": {},
   "outputs": [
    {
     "name": "stdout",
     "output_type": "stream",
     "text": [
      "\n"
     ]
    }
   ],
   "source": [
    "fh=open('book.txt','w+')\n",
    "fh.write('line 6')\n",
    "print(fh.read())\n",
    "fh.close()"
   ]
  },
  {
   "cell_type": "code",
   "execution_count": 16,
   "metadata": {},
   "outputs": [],
   "source": [
    "import re\n",
    "fh1=open('mobile.txt','r')\n",
    "fh2=open('invalidreport.txt','w')\n",
    "count=0\n",
    "for Line in fh1:\n",
    "    count+=1\n",
    "    if count==1:\n",
    "        fh2.write(Line)\n",
    "    else:\n",
    "        if re.search('[0-5]\\d{9}',Line):\n",
    "            fh2.write(Line)\n",
    "fh1.close()\n",
    "fh2.close()"
   ]
  },
  {
   "cell_type": "code",
   "execution_count": null,
   "metadata": {},
   "outputs": [],
   "source": [
    "import re\n",
    "fh1=open('book1.txt','r')\n",
    "fh2=open('invalidreport.txt','w')\n",
    "count=0\n",
    "for Line in fh1:\n",
    "    count+=1\n",
    "    if count==1:\n",
    "        fh2.write(Line)\n",
    "    else:\n",
    "        if re.search('[0-5]\\d{9}',Line):\n",
    "            fh2.write(Line)\n",
    "fh1.close()\n",
    "fh2.close()"
   ]
  }
 ],
 "metadata": {
  "kernelspec": {
   "display_name": "Python 3",
   "language": "python",
   "name": "python3"
  },
  "language_info": {
   "codemirror_mode": {
    "name": "ipython",
    "version": 3
   },
   "file_extension": ".py",
   "mimetype": "text/x-python",
   "name": "python",
   "nbconvert_exporter": "python",
   "pygments_lexer": "ipython3",
   "version": "3.7.3"
  }
 },
 "nbformat": 4,
 "nbformat_minor": 2
}
